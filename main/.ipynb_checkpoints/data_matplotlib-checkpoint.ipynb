{
 "cells": [
  {
   "cell_type": "code",
   "execution_count": 24,
   "metadata": {
    "collapsed": true
   },
   "outputs": [],
   "source": [
    "import pandas as pd\n",
    "import matplotlib.pyplot as mp"
   ]
  },
  {
   "cell_type": "markdown",
   "metadata": {},
   "source": [
    "从文件中获取数据，放入dataframe类型文件中"
   ]
  },
  {
   "cell_type": "code",
   "execution_count": 3,
   "metadata": {},
   "outputs": [
    {
     "name": "stderr",
     "output_type": "stream",
     "text": [
      "Skipping line 247: Expected 15 fields in line 247, saw 18\n",
      "Skipping line 446: Expected 15 fields in line 446, saw 18\n",
      "Skipping line 920: Expected 15 fields in line 920, saw 16\n",
      "Skipping line 991: Expected 15 fields in line 991, saw 16\n"
     ]
    }
   ],
   "source": [
    "data_columns = ['companyFullName', 'positionName', 'createTime', 'companyShortName', 'city', 'education', \\\n",
    "                'jobNature', 'salary', 'industryField', 'financeStage', 'positionAdvantage', 'companySize', \\\n",
    "                'companyLabelList', 'district', 'positionLables']\n",
    "data_lagou = pd.read_csv(\n",
    "                        '../txt/positions_test.csv',\n",
    "                        header=None,\n",
    "                        names=data_columns,\n",
    "                        sep=';',\n",
    "                        engine='python',\n",
    "                        error_bad_lines=False,\n",
    "                        encoding='utf-8',\n",
    "                         )"
   ]
  },
  {
   "cell_type": "code",
   "execution_count": 4,
   "metadata": {},
   "outputs": [
    {
     "name": "stdout",
     "output_type": "stream",
     "text": [
      "  companyFullName positionName           createTime companyShortName city  \\\n",
      "0      凡普金科集团有限公司     数据分析师-风控  2019-09-17 10:35:32             凡普金科   北京   \n",
      "1  深圳市中手游网络科技有限公司        数据分析师  2019-09-17 10:31:52          CMGE中手游   北京   \n",
      "2      联想（北京）有限公司  数据分析师（机器学习）  2019-09-17 16:47:41             联想集团   北京   \n",
      "3  厦门科拓通讯技术股份有限公司        数据分析师  2019-09-17 15:50:37   厦门科拓通讯技术股份有限公司   成都   \n",
      "4  神策网络科技（北京）有限公司     数据分析师-上海  2019-09-16 10:24:44             神策数据   上海   \n",
      "\n",
      "  education jobNature   salary industryField financeStage  \\\n",
      "0        本科        全职  15k-25k            金融        不需要融资   \n",
      "1        本科        全职   6k-12k      移动互联网,游戏         上市公司   \n",
      "2        硕士        全职  30k-40k    移动互联网,数据服务         上市公司   \n",
      "3        本科        全职  15k-30k       硬件,企业服务        不需要融资   \n",
      "4        本科        全职  15k-30k          数据服务           C轮   \n",
      "\n",
      "      positionAdvantage companySize                  companyLabelList  \\\n",
      "0                 发展空间大     2000人以上  ['节日礼物', '技能培训', '带薪年假', '绩效奖金']   \n",
      "1  大平台 晋升机会 福利待遇好 团队氛围棒   500-2000人  ['节日礼物', '技能培训', '绩效奖金', '岗位晋升']   \n",
      "2                  带薪年假     2000人以上  ['五险一金', '绩效奖金', '午餐补助', '带薪年假']   \n",
      "3                 发展前景好   500-2000人                                []   \n",
      "4    五险一金,午餐补助,补充医疗,14薪    150-500人  ['节日礼物', '年底双薪', '股票期权', '带薪年假']   \n",
      "\n",
      "  district                      positionLables  \n",
      "0      东城区        ['可视化', '数据分析', '商业', 'SQL']  \n",
      "1      朝阳区                      ['游戏', '数据分析']  \n",
      "2      海淀区                            ['数据分析']  \n",
      "3      武侯区                      ['SQL', '数据库']  \n",
      "4      静安区  ['大数据', '商业', 'BI', '可视化', '数据分析']  \n"
     ]
    }
   ],
   "source": [
    "print(data_lagou.head())"
   ]
  },
  {
   "cell_type": "code",
   "execution_count": 5,
   "metadata": {},
   "outputs": [
    {
     "data": {
      "text/html": [
       "<div>\n",
       "<style>\n",
       "    .dataframe thead tr:only-child th {\n",
       "        text-align: right;\n",
       "    }\n",
       "\n",
       "    .dataframe thead th {\n",
       "        text-align: left;\n",
       "    }\n",
       "\n",
       "    .dataframe tbody tr th {\n",
       "        vertical-align: top;\n",
       "    }\n",
       "</style>\n",
       "<table border=\"1\" class=\"dataframe\">\n",
       "  <thead>\n",
       "    <tr style=\"text-align: right;\">\n",
       "      <th></th>\n",
       "      <th>companyFullName</th>\n",
       "      <th>positionName</th>\n",
       "      <th>createTime</th>\n",
       "      <th>companyShortName</th>\n",
       "      <th>city</th>\n",
       "      <th>education</th>\n",
       "      <th>jobNature</th>\n",
       "      <th>salary</th>\n",
       "      <th>industryField</th>\n",
       "      <th>financeStage</th>\n",
       "      <th>positionAdvantage</th>\n",
       "      <th>companySize</th>\n",
       "      <th>companyLabelList</th>\n",
       "      <th>district</th>\n",
       "      <th>positionLables</th>\n",
       "    </tr>\n",
       "  </thead>\n",
       "  <tbody>\n",
       "    <tr>\n",
       "      <th>count</th>\n",
       "      <td>1166</td>\n",
       "      <td>1166</td>\n",
       "      <td>1166</td>\n",
       "      <td>1166</td>\n",
       "      <td>1166</td>\n",
       "      <td>1166</td>\n",
       "      <td>1166</td>\n",
       "      <td>1166</td>\n",
       "      <td>1166</td>\n",
       "      <td>1166</td>\n",
       "      <td>1166</td>\n",
       "      <td>1166</td>\n",
       "      <td>1166</td>\n",
       "      <td>1166</td>\n",
       "      <td>1166</td>\n",
       "    </tr>\n",
       "    <tr>\n",
       "      <th>unique</th>\n",
       "      <td>677</td>\n",
       "      <td>395</td>\n",
       "      <td>1042</td>\n",
       "      <td>676</td>\n",
       "      <td>26</td>\n",
       "      <td>4</td>\n",
       "      <td>3</td>\n",
       "      <td>128</td>\n",
       "      <td>110</td>\n",
       "      <td>8</td>\n",
       "      <td>1001</td>\n",
       "      <td>6</td>\n",
       "      <td>510</td>\n",
       "      <td>95</td>\n",
       "      <td>705</td>\n",
       "    </tr>\n",
       "    <tr>\n",
       "      <th>top</th>\n",
       "      <td>北京字节跳动科技有限公司</td>\n",
       "      <td>数据分析师</td>\n",
       "      <td>2019-09-09 10:55:32</td>\n",
       "      <td>字节跳动</td>\n",
       "      <td>北京</td>\n",
       "      <td>本科</td>\n",
       "      <td>全职</td>\n",
       "      <td>15k-25k</td>\n",
       "      <td>金融</td>\n",
       "      <td>不需要融资</td>\n",
       "      <td>六险一金，弹性工作，免费三餐，租房补贴</td>\n",
       "      <td>2000人以上</td>\n",
       "      <td>[]</td>\n",
       "      <td>朝阳区</td>\n",
       "      <td>['数据分析']</td>\n",
       "    </tr>\n",
       "    <tr>\n",
       "      <th>freq</th>\n",
       "      <td>30</td>\n",
       "      <td>479</td>\n",
       "      <td>4</td>\n",
       "      <td>30</td>\n",
       "      <td>431</td>\n",
       "      <td>989</td>\n",
       "      <td>1148</td>\n",
       "      <td>149</td>\n",
       "      <td>127</td>\n",
       "      <td>297</td>\n",
       "      <td>12</td>\n",
       "      <td>413</td>\n",
       "      <td>149</td>\n",
       "      <td>192</td>\n",
       "      <td>157</td>\n",
       "    </tr>\n",
       "  </tbody>\n",
       "</table>\n",
       "</div>"
      ],
      "text/plain": [
       "       companyFullName positionName           createTime companyShortName  \\\n",
       "count             1166         1166                 1166             1166   \n",
       "unique             677          395                 1042              676   \n",
       "top       北京字节跳动科技有限公司        数据分析师  2019-09-09 10:55:32             字节跳动   \n",
       "freq                30          479                    4               30   \n",
       "\n",
       "        city education jobNature   salary industryField financeStage  \\\n",
       "count   1166      1166      1166     1166          1166         1166   \n",
       "unique    26         4         3      128           110            8   \n",
       "top       北京        本科        全职  15k-25k            金融        不需要融资   \n",
       "freq     431       989      1148      149           127          297   \n",
       "\n",
       "          positionAdvantage companySize companyLabelList district  \\\n",
       "count                  1166        1166             1166     1166   \n",
       "unique                 1001           6              510       95   \n",
       "top     六险一金，弹性工作，免费三餐，租房补贴     2000人以上               []      朝阳区   \n",
       "freq                     12         413              149      192   \n",
       "\n",
       "       positionLables  \n",
       "count            1166  \n",
       "unique            705  \n",
       "top          ['数据分析']  \n",
       "freq              157  "
      ]
     },
     "execution_count": 5,
     "metadata": {},
     "output_type": "execute_result"
    }
   ],
   "source": [
    "data_lagou.describe()"
   ]
  },
  {
   "cell_type": "markdown",
   "metadata": {},
   "source": [
    "查看每列有多少缺失值"
   ]
  },
  {
   "cell_type": "code",
   "execution_count": 13,
   "metadata": {},
   "outputs": [],
   "source": [
    "num = data_lagou.isnull().sum()"
   ]
  },
  {
   "cell_type": "markdown",
   "metadata": {},
   "source": [
    "查看每行有多少个缺失值\n"
   ]
  },
  {
   "cell_type": "code",
   "execution_count": 12,
   "metadata": {},
   "outputs": [],
   "source": [
    "num = data_lagou.isnull().sum(axis=1)"
   ]
  },
  {
   "cell_type": "markdown",
   "metadata": {},
   "source": [
    "判断整个数据中是否存在缺失数据"
   ]
  },
  {
   "cell_type": "code",
   "execution_count": 10,
   "metadata": {},
   "outputs": [
    {
     "data": {
      "text/plain": [
       "True"
      ]
     },
     "execution_count": 10,
     "metadata": {},
     "output_type": "execute_result"
    }
   ],
   "source": [
    "df = any(data_lagou.isnull())\n",
    "df"
   ]
  },
  {
   "cell_type": "markdown",
   "metadata": {},
   "source": [
    "查看education 里面内容出现的频率"
   ]
  },
  {
   "cell_type": "code",
   "execution_count": 18,
   "metadata": {},
   "outputs": [
    {
     "data": {
      "text/plain": [
       "本科    989\n",
       "不限     69\n",
       "硕士     61\n",
       "大专     47\n",
       "Name: education, dtype: int64"
      ]
     },
     "execution_count": 18,
     "metadata": {},
     "output_type": "execute_result"
    }
   ],
   "source": [
    "educations = pd.Series(data_lagou.education)\n",
    "educations_value_counts = educations.value_counts()\n",
    "educations_value_counts"
   ]
  },
  {
   "cell_type": "markdown",
   "metadata": {},
   "source": [
    "采用 matplotlib 画图表示"
   ]
  },
  {
   "cell_type": "code",
   "execution_count": 21,
   "metadata": {},
   "outputs": [
    {
     "data": {
      "text/plain": [
       "<matplotlib.axes._subplots.AxesSubplot at 0x9e4b518>"
      ]
     },
     "execution_count": 21,
     "metadata": {},
     "output_type": "execute_result"
    }
   ],
   "source": [
    "educations_value_counts.plot(kind='bar')"
   ]
  },
  {
   "cell_type": "code",
   "execution_count": 25,
   "metadata": {},
   "outputs": [
    {
     "data": {
      "text/plain": [
       "[<matplotlib.lines.Line2D at 0x947fdd8>]"
      ]
     },
     "execution_count": 25,
     "metadata": {},
     "output_type": "execute_result"
    }
   ],
   "source": [
    "mp.plot(educations_value_counts)"
   ]
  },
  {
   "cell_type": "markdown",
   "metadata": {},
   "source": [
    "查看 finance stage 内容出现的频率"
   ]
  },
  {
   "cell_type": "code",
   "execution_count": 17,
   "metadata": {},
   "outputs": [
    {
     "data": {
      "text/plain": [
       "不需要融资    297\n",
       "上市公司     274\n",
       "D轮及以上    152\n",
       "C轮       115\n",
       "B轮       110\n",
       "未融资       98\n",
       "A轮        97\n",
       "天使轮       23\n",
       "Name: financeStage, dtype: int64"
      ]
     },
     "execution_count": 17,
     "metadata": {},
     "output_type": "execute_result"
    }
   ],
   "source": [
    "financeStages = pd.Series(data_lagou.financeStage)\n",
    "financeStage_value_counts = financeStages.value_counts()\n",
    "financeStage_value_counts"
   ]
  },
  {
   "cell_type": "code",
   "execution_count": 22,
   "metadata": {},
   "outputs": [
    {
     "data": {
      "text/plain": [
       "<matplotlib.axes._subplots.AxesSubplot at 0x9e4b518>"
      ]
     },
     "execution_count": 22,
     "metadata": {},
     "output_type": "execute_result"
    }
   ],
   "source": [
    "financeStage_value_counts.plot(kind='bar')"
   ]
  },
  {
   "cell_type": "code",
   "execution_count": 26,
   "metadata": {},
   "outputs": [
    {
     "data": {
      "text/plain": [
       "[<matplotlib.lines.Line2D at 0xa632898>]"
      ]
     },
     "execution_count": 26,
     "metadata": {},
     "output_type": "execute_result"
    }
   ],
   "source": [
    "mp.plot(financeStage_value_counts)"
   ]
  },
  {
   "cell_type": "markdown",
   "metadata": {},
   "source": [
    "查看 jobNature 出现的频率"
   ]
  },
  {
   "cell_type": "code",
   "execution_count": 28,
   "metadata": {},
   "outputs": [
    {
     "data": {
      "text/plain": [
       "全职    1148\n",
       "实习      15\n",
       "兼职       3\n",
       "Name: jobNature, dtype: int64"
      ]
     },
     "execution_count": 28,
     "metadata": {},
     "output_type": "execute_result"
    }
   ],
   "source": [
    "jobNatures = pd.Series(data_lagou.jobNature)\n",
    "jobNature_value_counts = jobNatures.value_counts()\n",
    "jobNature_value_counts"
   ]
  },
  {
   "cell_type": "code",
   "execution_count": 29,
   "metadata": {},
   "outputs": [
    {
     "data": {
      "text/plain": [
       "[<matplotlib.lines.Line2D at 0xa60b0b8>]"
      ]
     },
     "execution_count": 29,
     "metadata": {},
     "output_type": "execute_result"
    }
   ],
   "source": [
    "jobNature_value_counts.plot(kind='bar')\n",
    "mp.plot(jobNature_value_counts)"
   ]
  },
  {
   "cell_type": "code",
   "execution_count": null,
   "metadata": {
    "collapsed": true
   },
   "outputs": [],
   "source": []
  },
  {
   "cell_type": "code",
   "execution_count": null,
   "metadata": {
    "collapsed": true
   },
   "outputs": [],
   "source": []
  },
  {
   "cell_type": "code",
   "execution_count": null,
   "metadata": {
    "collapsed": true
   },
   "outputs": [],
   "source": []
  },
  {
   "cell_type": "code",
   "execution_count": null,
   "metadata": {
    "collapsed": true
   },
   "outputs": [],
   "source": []
  },
  {
   "cell_type": "code",
   "execution_count": null,
   "metadata": {
    "collapsed": true
   },
   "outputs": [],
   "source": []
  }
 ],
 "metadata": {
  "kernelspec": {
   "display_name": "Python 3",
   "language": "python",
   "name": "python3"
  },
  "language_info": {
   "codemirror_mode": {
    "name": "ipython",
    "version": 3
   },
   "file_extension": ".py",
   "mimetype": "text/x-python",
   "name": "python",
   "nbconvert_exporter": "python",
   "pygments_lexer": "ipython3",
   "version": "3.6.3"
  }
 },
 "nbformat": 4,
 "nbformat_minor": 1
}
