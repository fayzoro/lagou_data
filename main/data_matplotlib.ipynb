{
 "cells": [
  {
   "cell_type": "code",
   "execution_count": 3,
   "metadata": {
    "collapsed": true
   },
   "outputs": [],
   "source": [
    "import pandas as pd\n",
    "import matplotlib as mp"
   ]
  },
  {
   "cell_type": "markdown",
   "metadata": {},
   "source": [
    "从文件中获取数据，放入dataframe类型文件中"
   ]
  },
  {
   "cell_type": "code",
   "execution_count": null,
   "metadata": {},
   "outputs": [
    {
     "name": "stderr",
     "output_type": "stream",
     "text": [
      "Skipping line 247: Expected 15 fields in line 247, saw 18\n",
      "Skipping line 446: Expected 15 fields in line 446, saw 18\n",
      "Skipping line 920: Expected 15 fields in line 920, saw 16\n",
      "Skipping line 991: Expected 15 fields in line 991, saw 16\n"
     ]
    }
   ],
   "source": [
    "data_columns = ['companyFullName', 'positionName', 'createTime', 'companyShortName', 'city', 'education', \\\n",
    "                'jobNature', 'salary', 'industryField', 'financeStage', 'positionAdvantage', 'companySize', \\\n",
    "                'companyLabelList', 'district', 'positionLables']\n",
    "data_lagou = pd.read_csv(\n",
    "                        '../txt/positions_test.csv',\n",
    "                        header=None,\n",
    "                        names=data_columns,\n",
    "                        sep=';',\n",
    "                        engine='python',\n",
    "                        error_bad_lines=False,\n",
    "                        encoding='utf-8',\n",
    "                         )"
   ]
  },
  {
   "cell_type": "code",
   "execution_count": null,
   "metadata": {
    "collapsed": true
   },
   "outputs": [],
   "source": []
  }
 ],
 "metadata": {
  "kernelspec": {
   "display_name": "Python 3",
   "language": "python",
   "name": "python3"
  },
  "language_info": {
   "codemirror_mode": {
    "name": "ipython",
    "version": 3
   },
   "file_extension": ".py",
   "mimetype": "text/x-python",
   "name": "python",
   "nbconvert_exporter": "python",
   "pygments_lexer": "ipython3",
   "version": "3.6.3"
  }
 },
 "nbformat": 4,
 "nbformat_minor": 1
}
